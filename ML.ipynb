{
 "cells": [
  {
   "cell_type": "code",
   "execution_count": 1,
   "id": "fea4e743",
   "metadata": {},
   "outputs": [
    {
     "name": "stdout",
     "output_type": "stream",
     "text": [
      "\n",
      "🔍 Missing Value Summary:\n",
      "                       Missing Count  Missing %\n",
      "Police_Report                  13716      34.29\n",
      "authorities_contacted           3600       9.00\n",
      "\n",
      "🔁 Duplicate Rows: 0\n",
      "\n",
      "📊 Outlier Summary (Top 10 columns):\n",
      "                      Outlier Count\n",
      "Umbrella_Limit                 8040\n",
      "Low_Mileage_Discount           7624\n",
      "Vehicle_Claim                  1740\n",
      "Property_Claim                 1738\n",
      "Injury_Claim                   1719\n",
      "Vehicle_Cost                    925\n",
      "Commute_Discount                783\n",
      "Total_Claim                     675\n",
      "Policy_Premium                  365\n",
      "Age_Insured                     165\n"
     ]
    }
   ],
   "source": [
    "import pandas as pd\n",
    "df = pd.read_csv(r\"C:\\Users\\trupt\\Downloads\\Auto_Insurance_Fraud_Claims_File01.csv\")\n",
    "missing = df.isnull().sum()\n",
    "missing_percent = (missing / len(df)) * 100\n",
    "missing_summary = pd.DataFrame({'Missing Count': missing, 'Missing %': missing_percent})\n",
    "print(\"\\n🔍 Missing Value Summary:\")\n",
    "print(missing_summary[missing_summary['Missing Count'] > 0].sort_values(by='Missing Count', ascending=False))\n",
    "duplicate_count = df.duplicated().sum()\n",
    "print(f\"\\n🔁 Duplicate Rows: {duplicate_count}\")\n",
    "numeric_cols = df.select_dtypes(include=['int64', 'float64']).columns\n",
    "outlier_counts = {}\n",
    "\n",
    "for col in numeric_cols:\n",
    "    Q1 = df[col].quantile(0.25)\n",
    "    Q3 = df[col].quantile(0.75)\n",
    "    IQR = Q3 - Q1\n",
    "    lower = Q1 - 1.5 * IQR\n",
    "    upper = Q3 + 1.5 * IQR\n",
    "    outliers = df[(df[col] < lower) | (df[col] > upper)]\n",
    "    outlier_counts[col] = len(outliers)\n",
    "\n",
    "outliers_df = pd.DataFrame.from_dict(outlier_counts, orient='index', columns=['Outlier Count'])\n",
    "outliers_df = outliers_df[outliers_df['Outlier Count'] > 0].sort_values(by='Outlier Count', ascending=False)\n",
    "print(\"\\n📊 Outlier Summary (Top 10 columns):\")\n",
    "print(outliers_df.head(10))\n"
   ]
  },
  {
   "cell_type": "code",
   "execution_count": 2,
   "id": "868f5776",
   "metadata": {},
   "outputs": [],
   "source": [
    "# Step 1: Load all three datasets\n",
    "train_df = pd.read_csv(r\"C:\\Users\\trupt\\Downloads\\Auto_Insurance_Fraud_Claims_File01.csv\")\n",
    "val_df   = pd.read_csv(r\"C:\\Users\\trupt\\Downloads\\Auto_Insurance_Fraud_Claims_File02.csv\")\n",
    "test_df  = pd.read_csv(r\"C:\\Users\\trupt\\Downloads\\Auto_Insurance_Fraud_Claims_File03.csv\")  \n",
    "\n",
    "# Step 2: Replace missing values with \"Unknown\" in all datasets\n",
    "for df in [train_df, val_df, test_df]:\n",
    "    for col in ['Police_Report', 'authorities_contacted']:\n",
    "        if col in df.columns:\n",
    "            df[col] = df[col].fillna(\"Unknown\")"
   ]
  },
  {
   "cell_type": "code",
   "execution_count": 3,
   "id": "65dfa0ca",
   "metadata": {},
   "outputs": [],
   "source": [
    "# Separate numerical and categorical columns\n",
    "cat_cols = train_df.select_dtypes(include='object').columns.tolist()\n",
    "num_cols = train_df.select_dtypes(include=['int64', 'float64']).columns.tolist()"
   ]
  },
  {
   "cell_type": "code",
   "execution_count": 4,
   "id": "3b8bab6f",
   "metadata": {},
   "outputs": [
    {
     "name": "stdout",
     "output_type": "stream",
     "text": [
      "Categorical Columns: ['Claim_ID', 'Bind_Date1', 'Policy_State', 'Policy_Start_Date', 'Policy_Expiry_Date', 'Policy_BI', 'Gender', 'Education', 'Occupation', 'Hobbies', 'Insured_Relationship', 'Garage_Location', 'Accident_Date', 'Accident_Type', 'Collision_Type', 'Accident_Severity', 'authorities_contacted', 'Acccident_State', 'Acccident_City', 'Accident_Location', 'Property_Damage', 'Police_Report', 'DL_Expiry_Date', 'Claims_Date', 'Auto_Make', 'Auto_Model', 'Vehicle_Color', 'Fraud_Ind', 'Vehicle_Registration', 'Check_Point']\n",
      "Numerical Columns: ['Customer_Life_Value1', 'Age_Insured', 'Policy_Num', 'Policy_Ded', 'Policy_Premium', 'Umbrella_Limit', 'Insured_Zip', 'Capital_Gains', 'Capital_Loss', 'Accident_Hour', 'Num_of_Vehicles_Involved', 'Bodily_Injuries', 'Witnesses', 'Auto_Year', 'Vehicle_Cost', 'Annual_Mileage', 'DiffIN_Mileage', 'Low_Mileage_Discount', 'Commute_Discount', 'Total_Claim', 'Injury_Claim', 'Property_Claim', 'Vehicle_Claim']\n"
     ]
    }
   ],
   "source": [
    "print(\"Categorical Columns:\",cat_cols)\n",
    "print(\"Numerical Columns:\",num_cols)\n"
   ]
  },
  {
   "cell_type": "code",
   "execution_count": 5,
   "id": "8ccb5cc1",
   "metadata": {},
   "outputs": [
    {
     "name": "stdout",
     "output_type": "stream",
     "text": [
      "Final categorical columns: ['Claim_ID', 'Bind_Date1', 'Policy_State', 'Policy_Start_Date', 'Policy_Expiry_Date', 'Policy_BI', 'Gender', 'Education', 'Occupation', 'Hobbies', 'Insured_Relationship', 'Garage_Location', 'Accident_Date', 'Accident_Type', 'Collision_Type', 'Accident_Severity', 'authorities_contacted', 'Acccident_State', 'Acccident_City', 'Accident_Location', 'Property_Damage', 'Police_Report', 'DL_Expiry_Date', 'Claims_Date', 'Auto_Make', 'Auto_Model', 'Vehicle_Color', 'Vehicle_Registration', 'Check_Point']\n"
     ]
    }
   ],
   "source": [
    "target_col = 'Fraud_Ind'\n",
    "\n",
    "# Find object columns\n",
    "cat_cols = train_df.select_dtypes(include='object').columns.tolist()\n",
    "\n",
    "# Exclude the target column from categorical features\n",
    "if target_col in cat_cols:\n",
    "    cat_cols.remove(target_col)\n",
    "\n",
    "print(\"Final categorical columns:\",cat_cols)"
   ]
  },
  {
   "cell_type": "code",
   "execution_count": 6,
   "id": "4ecc40fa",
   "metadata": {},
   "outputs": [],
   "source": [
    "from sklearn.preprocessing import LabelEncoder\n",
    "encoders = {}\n",
    "for col in cat_cols:\n",
    "    le = LabelEncoder()\n",
    "    all_values = pd.concat([train_df[col], val_df[col], test_df[col]]).astype(str).unique()\n",
    "    le.fit(all_values)\n",
    "    train_df[col] = le.transform(train_df[col].astype(str))\n",
    "    val_df[col]   = le.transform(val_df[col].astype(str))\n",
    "    test_df[col]  = le.transform(test_df[col].astype(str))\n",
    "\n",
    "    encoders[col]= le"
   ]
  },
  {
   "cell_type": "code",
   "execution_count": 7,
   "id": "3b1d1a64",
   "metadata": {},
   "outputs": [],
   "source": [
    "date_cols = ['Accident_Date', 'Claims_Date']\n",
    "\n",
    "for df in [train_df, val_df, test_df]:\n",
    "    for col in date_cols:\n",
    "        df[col] = pd.to_datetime(df[col], errors='coerce',dayfirst=True)"
   ]
  },
  {
   "cell_type": "code",
   "execution_count": 8,
   "id": "f3771b81",
   "metadata": {},
   "outputs": [],
   "source": [
    "for df in [train_df, val_df, test_df]:\n",
    "    # 1. Claim duration in days\n",
    "    df['Claim_Duration_Days'] = (df['Claims_Date'] - df['Accident_Date']).dt.days\n",
    "\n",
    "    # 2. Claim amount per injury \n",
    "    df['Claim_Amount_per_Injury'] = df[\"Total_Claim\"] / (df['Injury_Claim'] + 1)\n",
    "\n",
    "    # 3. Weekend accident\n",
    "    df['Is_Weekend_Accident'] = df['Accident_Date'].dt.weekday.isin([5, 6]).astype(int)\n",
    "\n",
    "    # 4. Police contacted flag\n",
    "    df['Police_Contacted_Flag'] = (df['Police_Report'] != 'Unknown').astype(int)\n",
    "\n",
    "    # 5. Total damage score (if applicable)\n",
    "    df['Total_Damage_Score'] = df['Injury_Claim'] + df['Property_Claim'] + df['Vehicle_Claim']"
   ]
  },
  {
   "cell_type": "code",
   "execution_count": 9,
   "id": "c7d286e5",
   "metadata": {},
   "outputs": [
    {
     "name": "stdout",
     "output_type": "stream",
     "text": [
      "Defaulting to user installation because normal site-packages is not writeable\n",
      "Requirement already satisfied: xgboost in c:\\users\\trupt\\appdata\\roaming\\python\\python311\\site-packages (3.0.2)\n",
      "Requirement already satisfied: numpy in c:\\programdata\\anaconda3\\lib\\site-packages (from xgboost) (1.24.3)\n",
      "Requirement already satisfied: scipy in c:\\programdata\\anaconda3\\lib\\site-packages (from xgboost) (1.11.1)\n"
     ]
    }
   ],
   "source": [
    "!pip install xgboost"
   ]
  },
  {
   "cell_type": "code",
   "execution_count": 10,
   "id": "62757fb6",
   "metadata": {},
   "outputs": [
    {
     "name": "stdout",
     "output_type": "stream",
     "text": [
      "Defaulting to user installation because normal site-packages is not writeable\n",
      "Requirement already satisfied: lightgbm in c:\\users\\trupt\\appdata\\roaming\\python\\python311\\site-packages (4.6.0)\n",
      "Requirement already satisfied: numpy>=1.17.0 in c:\\programdata\\anaconda3\\lib\\site-packages (from lightgbm) (1.24.3)\n",
      "Requirement already satisfied: scipy in c:\\programdata\\anaconda3\\lib\\site-packages (from lightgbm) (1.11.1)\n"
     ]
    }
   ],
   "source": [
    "!pip install lightgbm"
   ]
  },
  {
   "cell_type": "code",
   "execution_count": 11,
   "id": "1489ad2f",
   "metadata": {},
   "outputs": [
    {
     "name": "stdout",
     "output_type": "stream",
     "text": [
      "Logistic Regression: Accuracy = 0.7863\n",
      "Random Forest: Accuracy = 1.0000\n",
      "Gradient Boosting: Accuracy = 0.9404\n",
      "Decision Tree: Accuracy = 1.0000\n",
      "KNN: Accuracy = 0.9968\n",
      "Naive Bayes: Accuracy = 0.7512\n",
      "AdaBoost: Accuracy = 0.8718\n",
      "Bagging: Accuracy = 1.0000\n",
      "[LightGBM] [Info] Number of positive: 9880, number of negative: 30120\n",
      "[LightGBM] [Info] Auto-choosing col-wise multi-threading, the overhead of testing was 0.006442 seconds.\n",
      "You can set `force_col_wise=true` to remove the overhead.\n",
      "[LightGBM] [Info] Total Bins 5029\n",
      "[LightGBM] [Info] Number of data points in the train set: 40000, number of used features: 52\n",
      "[LightGBM] [Info] [binary:BoostFromScore]: pavg=0.247000 -> initscore=-1.114677\n",
      "[LightGBM] [Info] Start training from score -1.114677\n",
      "LightGBM: Accuracy = 1.0000\n",
      "\n",
      "✅ Best model: Random Forest\n",
      "\n",
      "⚠ Test set has no labels. Skipping evaluation.\n"
     ]
    }
   ],
   "source": [
    "from sklearn.preprocessing import StandardScaler\n",
    "from sklearn.metrics import (\n",
    "    accuracy_score, precision_score, recall_score, f1_score,\n",
    "    roc_auc_score, confusion_matrix, classification_report,\n",
    "    matthews_corrcoef\n",
    ")\n",
    "\n",
    "# === Step 1: Define label column ===\n",
    "label_col = 'Fraud_Ind'\n",
    "\n",
    "# === Step 2: Split data into features and target ===\n",
    "X_train = train_df.drop(columns=[label_col])\n",
    "y_train = train_df[label_col]\n",
    "\n",
    "X_val = val_df.drop(columns=[label_col])\n",
    "y_val = val_df[label_col]\n",
    "\n",
    "# === Handle test_df if it doesn't have label ===\n",
    "if label_col in test_df.columns:\n",
    "    X_test = test_df.drop(columns=[label_col])\n",
    "    y_test = test_df[label_col]\n",
    "else:\n",
    "    X_test = test_df.copy()\n",
    "    y_test = None  # unknown during testing\n",
    "\n",
    "# === Step 3: Drop datetime columns ===\n",
    "datetime_cols = X_train.select_dtypes(include='datetime64').columns\n",
    "X_train = X_train.drop(columns=datetime_cols)\n",
    "X_val = X_val.drop(columns=datetime_cols)\n",
    "X_test = X_test.drop(columns=datetime_cols)\n",
    "\n",
    "# === Step 4: Standardize numeric features ===\n",
    "scaler = StandardScaler()\n",
    "X_train_scaled = scaler.fit_transform(X_train)\n",
    "X_val_scaled = scaler.transform(X_val)\n",
    "X_test_scaled = scaler.transform(X_test)\n",
    "\n",
    "# === Step 5: Train models ===\n",
    "from sklearn.linear_model import LogisticRegression\n",
    "from sklearn.ensemble import RandomForestClassifier, GradientBoostingClassifier\n",
    "from sklearn.tree import DecisionTreeClassifier\n",
    "from sklearn.neighbors import KNeighborsClassifier\n",
    "from sklearn.svm import SVC\n",
    "from sklearn.naive_bayes import GaussianNB\n",
    "from sklearn.ensemble import AdaBoostClassifier, BaggingClassifier\n",
    "from lightgbm import LGBMClassifier\n",
    "\n",
    "models = {\n",
    "    'Logistic Regression': LogisticRegression(max_iter=1000),\n",
    "    'Random Forest': RandomForestClassifier(),\n",
    "    'Gradient Boosting': GradientBoostingClassifier(),\n",
    "    'Decision Tree': DecisionTreeClassifier(),\n",
    "    'KNN': KNeighborsClassifier(),\n",
    "    'Naive Bayes': GaussianNB(),\n",
    "    'AdaBoost': AdaBoostClassifier(),\n",
    "    'Bagging': BaggingClassifier(),\n",
    "    'LightGBM': LGBMClassifier()\n",
    "}\n",
    "\n",
    "val_scores = {}\n",
    "for name, model in models.items():\n",
    "    model.fit(X_train_scaled, y_train)\n",
    "    preds = model.predict(X_val_scaled)\n",
    "    acc = accuracy_score(y_val, preds)\n",
    "    val_scores[name] = acc\n",
    "    print(f\"{name}: Accuracy = {acc:.4f}\")\n",
    "\n",
    "# === Step 6: Choose best model ===\n",
    "best_model_name = max(val_scores, key=val_scores.get)\n",
    "best_model = models[best_model_name]\n",
    "print(f\"\\n✅ Best model: {best_model_name}\")\n",
    "\n",
    "# === Step 7: Evaluate on test set (if labels exist) ===\n",
    "if y_test is not None:\n",
    "    y_test_preds = best_model.predict(X_test_scaled)\n",
    "    y_test_proba = best_model.predict_proba(X_test_scaled)[:, 1] if hasattr(best_model, \"predict_proba\") else None\n",
    "\n",
    "    accuracy = accuracy_score(y_test, y_test_preds)\n",
    "    precision = precision_score(y_test, y_test_preds)\n",
    "    recall = recall_score(y_test, y_test_preds)\n",
    "    f1 = f1_score(y_test, y_test_preds)\n",
    "    mcc = matthews_corrcoef(y_test, y_test_preds)\n",
    "    roc_auc = roc_auc_score(y_test, y_test_proba) if y_test_proba is not None else None\n",
    "    cm = confusion_matrix(y_test, y_test_preds)\n",
    "    report = classification_report(y_test, y_test_preds)\n",
    "\n",
    "    print(\"\\n📊 Test Set Evaluation:\")\n",
    "    print(f\"Accuracy       : {accuracy:.4f}\")\n",
    "    print(f\"Precision      : {precision:.4f}\")\n",
    "    print(f\"Recall         : {recall:.4f}\")\n",
    "    print(f\"F1-Score       : {f1:.4f}\")\n",
    "    print(f\"Matthews Corr. : {mcc:.4f}\")\n",
    "    if roc_auc is not None:\n",
    "        print(f\"ROC AUC        : {roc_auc:.4f}\")\n",
    "    print(\"\\nConfusion Matrix:\")\n",
    "    print(cm)\n",
    "    print(\"\\nClassification Report:\")\n",
    "    print(report)\n",
    "else:\n",
    "    print(\"\\n⚠ Test set has no labels. Skipping evaluation.\")\n"
   ]
  },
  {
   "cell_type": "code",
   "execution_count": 13,
   "id": "44b57268",
   "metadata": {},
   "outputs": [
    {
     "name": "stdout",
     "output_type": "stream",
     "text": [
      "Defaulting to user installation because normal site-packages is not writeable\n",
      "Requirement already satisfied: matplotlib in c:\\programdata\\anaconda3\\lib\\site-packages (3.7.2)\n",
      "Requirement already satisfied: seaborn in c:\\users\\trupt\\appdata\\roaming\\python\\python311\\site-packages (0.13.2)\n",
      "Requirement already satisfied: contourpy>=1.0.1 in c:\\programdata\\anaconda3\\lib\\site-packages (from matplotlib) (1.0.5)\n",
      "Requirement already satisfied: cycler>=0.10 in c:\\programdata\\anaconda3\\lib\\site-packages (from matplotlib) (0.11.0)\n",
      "Requirement already satisfied: fonttools>=4.22.0 in c:\\programdata\\anaconda3\\lib\\site-packages (from matplotlib) (4.25.0)\n",
      "Requirement already satisfied: kiwisolver>=1.0.1 in c:\\programdata\\anaconda3\\lib\\site-packages (from matplotlib) (1.4.4)\n",
      "Requirement already satisfied: numpy>=1.20 in c:\\programdata\\anaconda3\\lib\\site-packages (from matplotlib) (1.24.3)\n",
      "Requirement already satisfied: packaging>=20.0 in c:\\programdata\\anaconda3\\lib\\site-packages (from matplotlib) (23.1)\n",
      "Requirement already satisfied: pillow>=6.2.0 in c:\\programdata\\anaconda3\\lib\\site-packages (from matplotlib) (9.4.0)\n",
      "Requirement already satisfied: pyparsing<3.1,>=2.3.1 in c:\\programdata\\anaconda3\\lib\\site-packages (from matplotlib) (3.0.9)\n",
      "Requirement already satisfied: python-dateutil>=2.7 in c:\\programdata\\anaconda3\\lib\\site-packages (from matplotlib) (2.8.2)\n",
      "Requirement already satisfied: pandas>=1.2 in c:\\programdata\\anaconda3\\lib\\site-packages (from seaborn) (2.0.3)\n",
      "Requirement already satisfied: pytz>=2020.1 in c:\\programdata\\anaconda3\\lib\\site-packages (from pandas>=1.2->seaborn) (2023.3.post1)\n",
      "Requirement already satisfied: tzdata>=2022.1 in c:\\programdata\\anaconda3\\lib\\site-packages (from pandas>=1.2->seaborn) (2023.3)\n",
      "Requirement already satisfied: six>=1.5 in c:\\programdata\\anaconda3\\lib\\site-packages (from python-dateutil>=2.7->matplotlib) (1.16.0)\n"
     ]
    }
   ],
   "source": [
    "!pip install matplotlib seaborn\n"
   ]
  },
  {
   "cell_type": "code",
   "execution_count": 25,
   "id": "a3d40fa9",
   "metadata": {},
   "outputs": [
    {
     "name": "stdout",
     "output_type": "stream",
     "text": [
      "<class 'NoneType'>\n"
     ]
    }
   ],
   "source": [
    "print(type(y_test))\n",
    "\n"
   ]
  },
  {
   "cell_type": "code",
   "execution_count": 26,
   "id": "42cb2aae",
   "metadata": {},
   "outputs": [],
   "source": [
    "y_val_binary = y_val.map({'Y':1, 'N':0})\n"
   ]
  },
  {
   "cell_type": "code",
   "execution_count": 30,
   "id": "006a1c7d",
   "metadata": {},
   "outputs": [
    {
     "data": {
      "image/png": "[encoded data removed]",
      "text/plain": [
       "<Figure size 600x400 with 2 Axes>"
      ]
     },
     "metadata": {},
     "output_type": "display_data"
    },
    {
     "data": {
      "image/png": "[encoded data removed]",
      "text/plain": [
       "<Figure size 600x400 with 1 Axes>"
      ]
     },
     "metadata": {},
     "output_type": "display_data"
    },
    {
     "name": "stdout",
     "output_type": "stream",
     "text": [
      "Classification Report:\n",
      "\n",
      "              precision    recall  f1-score   support\n",
      "\n",
      "           N       1.00      1.00      1.00     14680\n",
      "           Y       1.00      1.00      1.00      5320\n",
      "\n",
      "    accuracy                           1.00     20000\n",
      "   macro avg       1.00      1.00      1.00     20000\n",
      "weighted avg       1.00      1.00      1.00     20000\n",
      "\n"
     ]
    }
   ],
   "source": [
    "import numpy as np\n",
    "import pandas as pd\n",
    "import seaborn as sns\n",
    "import matplotlib.pyplot as plt\n",
    "from sklearn.metrics import classification_report, confusion_matrix, roc_curve, roc_auc_score\n",
    "\n",
    "# Convert 'Y'/'N' to binary: 1/0\n",
    "y_val_binary = y_val.map({'Y': 1, 'N': 0})\n",
    "\n",
    "#Predict probabilities and classes\n",
    "y_val_probs = best_model.predict_proba(X_val_scaled)[:, 1]\n",
    "y_val_preds = best_model.predict(X_val_scaled)\n",
    "\n",
    "# 1. Confusion Matrix\n",
    "conf_matrix = confusion_matrix(y_val, y_val_preds)\n",
    "plt.figure(figsize=(6, 4))\n",
    "sns.heatmap(conf_matrix, annot=True, fmt='d', cmap='Blues')\n",
    "plt.title(\"Confusion Matrix\")\n",
    "plt.xlabel(\"Predicted\")\n",
    "plt.ylabel(\"Actual\")\n",
    "plt.show()\n",
    "\n",
    "# 2. ROC Curve\n",
    "fpr, tpr, thresholds = roc_curve(y_val_binary, y_val_probs)\n",
    "roc_auc = roc_auc_score(y_val_binary, y_val_probs)\n",
    "\n",
    "plt.figure(figsize=(6, 4))\n",
    "plt.plot(fpr, tpr, label=f\"ROC Curve (AUC = {roc_auc:.2f})\", color='darkorange')\n",
    "plt.plot([0, 1], [0, 1], 'k--', label=\"Random Guess\")\n",
    "plt.xlabel(\"False Positive Rate\")\n",
    "plt.ylabel(\"True Positive Rate\")\n",
    "plt.title(\"Receiver Operating Characteristic (ROC) Curve\")\n",
    "plt.legend(loc=\"lower right\")\n",
    "plt.grid(True)\n",
    "plt.show()\n",
    "\n",
    "# 3. Classification Report\n",
    "print(\"Classification Report:\\n\")\n",
    "print(classification_report(y_val, y_val_preds))\n"
   ]
  },
  {
   "cell_type": "code",
   "execution_count": 33,
   "id": "db7d31be",
   "metadata": {},
   "outputs": [
    {
     "data": {
      "image/png": "[encoded data removed]",
      "text/plain": [
       "<Figure size 800x600 with 1 Axes>"
      ]
     },
     "metadata": {},
     "output_type": "display_data"
    }
   ],
   "source": [
    "import matplotlib.pyplot as plt\n",
    "import pandas as pd\n",
    "\n",
    "# Get feature importances\n",
    "importances = best_model.feature_importances_\n",
    "feature_names = X_train.columns  # Use the correct feature set you trained with\n",
    "\n",
    "# Create DataFrame and sort\n",
    "feat_imp_df = pd.DataFrame({\n",
    "    'Feature': feature_names,\n",
    "    'Importance': importances\n",
    "}).sort_values(by='Importance', ascending=False).head(10)\n",
    "\n",
    "# Plot\n",
    "plt.figure(figsize=(8, 6))\n",
    "plt.barh(feat_imp_df['Feature'], feat_imp_df['Importance'], color='skyblue')\n",
    "plt.xlabel(\"Feature Importance\")\n",
    "plt.title(\"Top 10 Important Features (Random Forest)\")\n",
    "plt.gca().invert_yaxis()\n",
    "plt.tight_layout()\n",
    "plt.show()\n"
   ]
  },
  {
   "cell_type": "code",
   "execution_count": 36,
   "id": "29cc01b3",
   "metadata": {},
   "outputs": [],
   "source": [
    "df['Claim_to_Premium_Ratio'] = df['Total_Claim'] / (df['Policy_Premium'] + 1e-6)\n"
   ]
  },
  {
   "cell_type": "code",
   "execution_count": 37,
   "id": "adb1feae",
   "metadata": {},
   "outputs": [
    {
     "data": {
      "text/html": [
       "<div>\n",
       "<style scoped>\n",
       "    .dataframe tbody tr th:only-of-type {\n",
       "        vertical-align: middle;\n",
       "    }\n",
       "\n",
       "    .dataframe tbody tr th {\n",
       "        vertical-align: top;\n",
       "    }\n",
       "\n",
       "    .dataframe thead th {\n",
       "        text-align: right;\n",
       "    }\n",
       "</style>\n",
       "<table border=\"1\" class=\"dataframe\">\n",
       "  <thead>\n",
       "    <tr style=\"text-align: right;\">\n",
       "      <th></th>\n",
       "      <th>Claim_ID</th>\n",
       "      <th>Bind_Date1</th>\n",
       "      <th>Customer_Life_Value1</th>\n",
       "      <th>Age_Insured</th>\n",
       "      <th>Policy_Num</th>\n",
       "      <th>Policy_State</th>\n",
       "      <th>Policy_Start_Date</th>\n",
       "      <th>Policy_Expiry_Date</th>\n",
       "      <th>Policy_BI</th>\n",
       "      <th>Policy_Ded</th>\n",
       "      <th>...</th>\n",
       "      <th>Property_Claim</th>\n",
       "      <th>Vehicle_Claim</th>\n",
       "      <th>Vehicle_Registration</th>\n",
       "      <th>Check_Point</th>\n",
       "      <th>Claim_Duration_Days</th>\n",
       "      <th>Claim_Amount_per_Injury</th>\n",
       "      <th>Is_Weekend_Accident</th>\n",
       "      <th>Police_Contacted_Flag</th>\n",
       "      <th>Total_Damage_Score</th>\n",
       "      <th>Claim_to_Premium_Ratio</th>\n",
       "    </tr>\n",
       "  </thead>\n",
       "  <tbody>\n",
       "    <tr>\n",
       "      <th>0</th>\n",
       "      <td>60000</td>\n",
       "      <td>6</td>\n",
       "      <td>22</td>\n",
       "      <td>31</td>\n",
       "      <td>116375016</td>\n",
       "      <td>1</td>\n",
       "      <td>24</td>\n",
       "      <td>82</td>\n",
       "      <td>2</td>\n",
       "      <td>500</td>\n",
       "      <td>...</td>\n",
       "      <td>4153.83</td>\n",
       "      <td>4675.45</td>\n",
       "      <td>57121</td>\n",
       "      <td>0</td>\n",
       "      <td>-1</td>\n",
       "      <td>8.236295</td>\n",
       "      <td>0</td>\n",
       "      <td>1</td>\n",
       "      <td>10048.28</td>\n",
       "      <td>14.179668</td>\n",
       "    </tr>\n",
       "    <tr>\n",
       "      <th>1</th>\n",
       "      <td>60001</td>\n",
       "      <td>12</td>\n",
       "      <td>16</td>\n",
       "      <td>34</td>\n",
       "      <td>189560103</td>\n",
       "      <td>0</td>\n",
       "      <td>13</td>\n",
       "      <td>71</td>\n",
       "      <td>0</td>\n",
       "      <td>2000</td>\n",
       "      <td>...</td>\n",
       "      <td>1043.39</td>\n",
       "      <td>5645.08</td>\n",
       "      <td>14712</td>\n",
       "      <td>0</td>\n",
       "      <td>0</td>\n",
       "      <td>2.118181</td>\n",
       "      <td>0</td>\n",
       "      <td>1</td>\n",
       "      <td>12668.14</td>\n",
       "      <td>11.976271</td>\n",
       "    </tr>\n",
       "    <tr>\n",
       "      <th>2</th>\n",
       "      <td>60002</td>\n",
       "      <td>2</td>\n",
       "      <td>15</td>\n",
       "      <td>27</td>\n",
       "      <td>197359502</td>\n",
       "      <td>0</td>\n",
       "      <td>12</td>\n",
       "      <td>70</td>\n",
       "      <td>0</td>\n",
       "      <td>1000</td>\n",
       "      <td>...</td>\n",
       "      <td>82.28</td>\n",
       "      <td>347.94</td>\n",
       "      <td>57234</td>\n",
       "      <td>0</td>\n",
       "      <td>0</td>\n",
       "      <td>2.149030</td>\n",
       "      <td>0</td>\n",
       "      <td>1</td>\n",
       "      <td>802.77</td>\n",
       "      <td>0.579822</td>\n",
       "    </tr>\n",
       "    <tr>\n",
       "      <th>3</th>\n",
       "      <td>60003</td>\n",
       "      <td>0</td>\n",
       "      <td>24</td>\n",
       "      <td>28</td>\n",
       "      <td>123790687</td>\n",
       "      <td>2</td>\n",
       "      <td>4</td>\n",
       "      <td>62</td>\n",
       "      <td>2</td>\n",
       "      <td>1000</td>\n",
       "      <td>...</td>\n",
       "      <td>5908.36</td>\n",
       "      <td>3611.06</td>\n",
       "      <td>45587</td>\n",
       "      <td>0</td>\n",
       "      <td>0</td>\n",
       "      <td>6.292716</td>\n",
       "      <td>0</td>\n",
       "      <td>1</td>\n",
       "      <td>11316.82</td>\n",
       "      <td>11.471339</td>\n",
       "    </tr>\n",
       "    <tr>\n",
       "      <th>4</th>\n",
       "      <td>60004</td>\n",
       "      <td>7</td>\n",
       "      <td>21</td>\n",
       "      <td>42</td>\n",
       "      <td>145901048</td>\n",
       "      <td>0</td>\n",
       "      <td>83</td>\n",
       "      <td>28</td>\n",
       "      <td>0</td>\n",
       "      <td>500</td>\n",
       "      <td>...</td>\n",
       "      <td>8650.96</td>\n",
       "      <td>1200.47</td>\n",
       "      <td>4365</td>\n",
       "      <td>0</td>\n",
       "      <td>0</td>\n",
       "      <td>3.956578</td>\n",
       "      <td>0</td>\n",
       "      <td>1</td>\n",
       "      <td>13182.13</td>\n",
       "      <td>10.019252</td>\n",
       "    </tr>\n",
       "  </tbody>\n",
       "</table>\n",
       "<p>5 rows × 58 columns</p>\n",
       "</div>"
      ],
      "text/plain": [
       "   Claim_ID  Bind_Date1  Customer_Life_Value1  Age_Insured  Policy_Num  \\\n",
       "0     60000           6                    22           31   116375016   \n",
       "1     60001          12                    16           34   189560103   \n",
       "2     60002           2                    15           27   197359502   \n",
       "3     60003           0                    24           28   123790687   \n",
       "4     60004           7                    21           42   145901048   \n",
       "\n",
       "   Policy_State  Policy_Start_Date  Policy_Expiry_Date  Policy_BI  Policy_Ded  \\\n",
       "0             1                 24                  82          2         500   \n",
       "1             0                 13                  71          0        2000   \n",
       "2             0                 12                  70          0        1000   \n",
       "3             2                  4                  62          2        1000   \n",
       "4             0                 83                  28          0         500   \n",
       "\n",
       "   ...  Property_Claim  Vehicle_Claim  Vehicle_Registration  Check_Point  \\\n",
       "0  ...         4153.83        4675.45                 57121            0   \n",
       "1  ...         1043.39        5645.08                 14712            0   \n",
       "2  ...           82.28         347.94                 57234            0   \n",
       "3  ...         5908.36        3611.06                 45587            0   \n",
       "4  ...         8650.96        1200.47                  4365            0   \n",
       "\n",
       "   Claim_Duration_Days  Claim_Amount_per_Injury  Is_Weekend_Accident  \\\n",
       "0                   -1                 8.236295                    0   \n",
       "1                    0                 2.118181                    0   \n",
       "2                    0                 2.149030                    0   \n",
       "3                    0                 6.292716                    0   \n",
       "4                    0                 3.956578                    0   \n",
       "\n",
       "   Police_Contacted_Flag  Total_Damage_Score  Claim_to_Premium_Ratio  \n",
       "0                      1            10048.28               14.179668  \n",
       "1                      1            12668.14               11.976271  \n",
       "2                      1              802.77                0.579822  \n",
       "3                      1            11316.82               11.471339  \n",
       "4                      1            13182.13               10.019252  \n",
       "\n",
       "[5 rows x 58 columns]"
      ]
     },
     "execution_count": 37,
     "metadata": {},
     "output_type": "execute_result"
    }
   ],
   "source": [
    "df.head()\n"
   ]
  },
  {
   "cell_type": "code",
   "execution_count": null,
   "id": "bd167e2f",
   "metadata": {},
   "outputs": [],
   "source": []
  }
 ],
 "metadata": {
  "kernelspec": {
   "display_name": "Python 3 (ipykernel)",
   "language": "python",
   "name": "python3"
  },
  "language_info": {
   "codemirror_mode": {
    "name": "ipython",
    "version": 3
   },
   "file_extension": ".py",
   "mimetype": "text/x-python",
   "name": "python",
   "nbconvert_exporter": "python",
   "pygments_lexer": "ipython3",
   "version": "3.11.5"
  }
 },
 "nbformat": 4,
 "nbformat_minor": 5
}
